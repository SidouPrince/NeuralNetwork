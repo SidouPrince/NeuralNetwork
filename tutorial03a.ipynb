{
  "nbformat": 4,
  "nbformat_minor": 0,
  "metadata": {
    "kernelspec": {
      "display_name": "Python 3",
      "language": "python",
      "name": "python3"
    },
    "language_info": {
      "codemirror_mode": {
        "name": "ipython",
        "version": 3
      },
      "file_extension": ".py",
      "mimetype": "text/x-python",
      "name": "python",
      "nbconvert_exporter": "python",
      "pygments_lexer": "ipython3",
      "version": "3.7.9"
    },
    "toc": {
      "base_numbering": 1,
      "nav_menu": {},
      "number_sections": true,
      "sideBar": true,
      "skip_h1_title": true,
      "title_cell": "Table of Contents",
      "title_sidebar": "Contents",
      "toc_cell": false,
      "toc_position": {},
      "toc_section_display": true,
      "toc_window_display": true
    },
    "colab": {
      "name": "tutorial03a(1).ipynb",
      "provenance": [],
      "collapsed_sections": [],
      "include_colab_link": true
    }
  },
  "cells": [
    {
      "cell_type": "markdown",
      "metadata": {
        "id": "view-in-github",
        "colab_type": "text"
      },
      "source": [
        "<a href=\"https://colab.research.google.com/github/SidouPrince/NeuralNetwork/blob/main/tutorial03a.ipynb\" target=\"_parent\"><img src=\"https://colab.research.google.com/assets/colab-badge.svg\" alt=\"Open In Colab\"/></a>"
      ]
    },
    {
      "cell_type": "markdown",
      "metadata": {
        "id": "fa6ufOVn14dc"
      },
      "source": [
        "# Tutorial 3a. Homemade one-hidden layer perceptron for binary classification\n",
        "\n",
        "![](mlp.svg)\n",
        "\n",
        "## This is a homework: put your names here\n",
        "\n",
        "- SADI SID ALI\n",
        "\n",
        "## Description\n",
        "\n",
        "The goal of this tutorial is to build and train your first neural network *by hand* !\n",
        "\n",
        "- To keep things as simple as possible we consider a simple *perceptron* with *one hidden layer*\n",
        "- We consider a binary-classification problem which cannot be solved with a linear classifier\n",
        "- We use a toy dataset which is already created for you with the `load_data()` function\n",
        "\n",
        "The neural network will have to be **programmed and trained from scratch**, meaning that you will have to define its structure yourself, and that **you are not allowed** to use the built-in functionalities of `PyTorch` for autodifferentiation. You will have to program the forward and backward pass *yourself*, together with the gradient descent algorithm.\n",
        "\n",
        "**Read the following instructions carefully in order to succeed**\n",
        "\n",
        "- You are already provided with a simple python class which will constitute your neural network. \n",
        "\n",
        "- The constructor of this class (`__init__`) requires you to specify the following parameters (investigate the data carefully in order to know how these parameters need to be defined).\n",
        "    - Number of input nodes (number of features)\n",
        "    - Number of hidden units \n",
        "    - Number of output nodes\n",
        "\n",
        "- The constructor of the neural network also requires you to allocate the weight matrices and bias vectors which will be the main components of your computational graph. For this, you can use some of the tensor operations we have seen in `tutorial2a`, in order to initialize at random the weights, for instance.\n",
        "\n",
        "- Implementing a neural network consists in two main steps:\n",
        "    - Forward-pass: computing the output of the network based on its weight matrices and bias vectors. Since we consider binary classification, we should output activations that are activated by a sigmoid\n",
        "    - Backward-pass: computing how different the predictions of the network are from what should be predicted and update the parameters of the network with the backpropagation algorithm. You are already provided with a loss function in the code which requires only slight modifications.\n",
        "\n",
        "- If you want to challenge yourself you can extend the neural network as follows:\n",
        "    - add multiple hidden layers of different sizes\n",
        "    - explore different non-linear activation functions\n",
        "    - investigate whether the network starts overfitting"
      ]
    },
    {
      "cell_type": "code",
      "metadata": {
        "ExecuteTime": {
          "end_time": "2021-02-19T10:48:26.387197Z",
          "start_time": "2021-02-19T10:48:24.864492Z"
        },
        "id": "svYDWE0_14d_"
      },
      "source": [
        "import numpy as np\n",
        "import matplotlib as plt\n",
        "import torch\n",
        "import sklearn\n",
        "from sklearn.datasets import make_gaussian_quantiles\n",
        "from sklearn.model_selection import train_test_split\n",
        "from matplotlib.colors import ListedColormap\n",
        "import matplotlib.pyplot as plt"
      ],
      "execution_count": 1,
      "outputs": []
    },
    {
      "cell_type": "markdown",
      "metadata": {
        "id": "-4TWyl0M14eG"
      },
      "source": [
        "## Simulation of the data"
      ]
    },
    {
      "cell_type": "code",
      "metadata": {
        "ExecuteTime": {
          "end_time": "2021-02-19T10:48:26.392694Z",
          "start_time": "2021-02-19T10:48:26.389535Z"
        },
        "id": "dbhHqCRA14eK"
      },
      "source": [
        "def load_data(n_samples=500):\n",
        "    return make_gaussian_quantiles(\n",
        "        mean=None,\n",
        "        cov=0.7,\n",
        "        n_samples=n_samples,\n",
        "        n_features=2,\n",
        "        n_classes=2,\n",
        "        shuffle=True,\n",
        "        random_state=42,\n",
        "    )"
      ],
      "execution_count": 2,
      "outputs": []
    },
    {
      "cell_type": "code",
      "metadata": {
        "ExecuteTime": {
          "end_time": "2021-02-19T10:48:26.402639Z",
          "start_time": "2021-02-19T10:48:26.395408Z"
        },
        "colab": {
          "base_uri": "https://localhost:8080/"
        },
        "id": "DGG5exSz14eM",
        "outputId": "0f509790-7cf0-4f8d-d785-f0ef66161a60"
      },
      "source": [
        "gaussian_quantiles = load_data()\n",
        "X, y = gaussian_quantiles\n",
        "\n",
        "print(X[:10, :])\n",
        "print(y[:10])\n",
        "\n",
        "X_train, X_test, y_train, y_test = train_test_split(X, y, test_size=0.20, random_state=42)\n",
        "type(X_train)\n"
      ],
      "execution_count": 3,
      "outputs": [
        {
          "output_type": "stream",
          "text": [
            "[[-1.13773727  0.62436053]\n",
            " [-0.75970745 -1.18161805]\n",
            " [-0.82471758  0.42171557]\n",
            " [-0.09398039 -0.18487643]\n",
            " [-0.80731289  0.57399183]\n",
            " [ 0.67980788  1.13471182]\n",
            " [-1.70521733 -0.84342552]\n",
            " [ 1.57461467  1.12565917]\n",
            " [-0.22579357 -0.81889248]\n",
            " [ 0.97317262  0.00856159]]\n",
            "[1 1 0 0 1 1 1 1 0 1]\n"
          ],
          "name": "stdout"
        },
        {
          "output_type": "execute_result",
          "data": {
            "text/plain": [
              "numpy.ndarray"
            ]
          },
          "metadata": {
            "tags": []
          },
          "execution_count": 3
        }
      ]
    },
    {
      "cell_type": "code",
      "metadata": {
        "colab": {
          "base_uri": "https://localhost:8080/"
        },
        "id": "1-WkionX5z2M",
        "outputId": "b7a8cd5f-22b7-40ba-c7b4-5d709d82e99c"
      },
      "source": [
        "\r\n",
        "y_train.shape[0]"
      ],
      "execution_count": 4,
      "outputs": [
        {
          "output_type": "execute_result",
          "data": {
            "text/plain": [
              "400"
            ]
          },
          "metadata": {
            "tags": []
          },
          "execution_count": 4
        }
      ]
    },
    {
      "cell_type": "code",
      "metadata": {
        "ExecuteTime": {
          "end_time": "2021-02-19T10:48:27.301994Z",
          "start_time": "2021-02-19T10:48:27.131908Z"
        },
        "colab": {
          "base_uri": "https://localhost:8080/",
          "height": 441
        },
        "id": "teQJMD-t14eR",
        "outputId": "cd4b054b-29f6-413d-b373-7a5bc0c3dbda"
      },
      "source": [
        "cm = plt.cm.RdBu\n",
        "cm_bright = ListedColormap(['#FF0000', '#0000FF'])\n",
        "\n",
        "def plot_data(X, y, xy_labels=True, label=None, **kwargs):\n",
        "    X_1 = X[y == 1]\n",
        "    X_0 = X[y == 0]\n",
        "    if label is not None:\n",
        "        plt.scatter(X_1[:, 0], X_1[:, 1], c=\"blue\", s=30, label=label + \" (yi=1)\", **kwargs)\n",
        "        plt.scatter(X_0[:, 0], X_0[:, 1], c=\"red\", s=30, label=label + \" (yi=0)\", **kwargs)\n",
        "    plt.xticks(())\n",
        "    plt.yticks(())\n",
        "    plt.xlim(X[:, 0].min() - 1, X[:, 0].max() + 1)\n",
        "    plt.ylim(X[:, 1].min() - 1, X[:, 1].max() + 1)\n",
        "\n",
        "plt.figure(figsize=(6, 6))\n",
        "plot_data(X_train, y_train, alpha=0.7, label=\"Train\")\n",
        "plot_data(X_test, y_test, alpha=0.3, label=\"Valid\")\n",
        "plt.legend(fontsize=13)\n",
        "plt.tight_layout()"
      ],
      "execution_count": 5,
      "outputs": [
        {
          "output_type": "display_data",
          "data": {
            "image/png": "[encoded data removed]",
            "text/plain": [
              "<Figure size 432x432 with 1 Axes>"
            ]
          },
          "metadata": {
            "tags": []
          }
        }
      ]
    },
    {
      "cell_type": "code",
      "metadata": {
        "colab": {
          "base_uri": "https://localhost:8080/",
          "height": 281
        },
        "id": "uFOISM6YPNLE",
        "outputId": "f9b57a17-f789-4da0-ce7b-83c0d7bc0d65"
      },
      "source": [
        "def sigmoid(x):\r\n",
        "  return 1/(1+np.exp(-x))\r\n",
        "\r\n",
        "values = np.linspace(-10, 10, 100)\r\n",
        "plt.plot(values, sigmoid(values), 'r')\r\n",
        "plt.title(\"Sigmoid function\")\r\n",
        "plt.show()"
      ],
      "execution_count": 6,
      "outputs": [
        {
          "output_type": "display_data",
          "data": {
            "image/png": "[encoded data removed]",
            "text/plain": [
              "<Figure size 432x288 with 1 Axes>"
            ]
          },
          "metadata": {
            "tags": [],
            "needs_background": "light"
          }
        }
      ]
    },
    {
      "cell_type": "code",
      "metadata": {
        "id": "6ZnZUCqZnMV1"
      },
      "source": [
        "def sigmoid_der(x):\r\n",
        "  return sigmoid(x)*(1-sigmoid(x))"
      ],
      "execution_count": 7,
      "outputs": []
    },
    {
      "cell_type": "markdown",
      "metadata": {
        "id": "mSnr1vUO14eX"
      },
      "source": [
        "## A neural network class\n",
        "\n",
        "**QUESTION.** Implement the `forward` and `backward` methods in the following class, and fill the `__init__` and `train` methods, in order to train the one-hidden layer perceptron for binary classification. "
      ]
    },
    {
      "cell_type": "code",
      "metadata": {
        "ExecuteTime": {
          "end_time": "2021-02-19T09:25:41.859392Z",
          "start_time": "2021-02-19T09:25:41.854134Z"
        },
        "id": "qUlikknG14eZ"
      },
      "source": [
        "class NeuralNetwork:\n",
        "    def __init__(self, n_in, n_hidden, n_out):\n",
        "        # number of input nodes\n",
        "        self.n_x = n_in\n",
        "        # number of hidden nodes\n",
        "        self.n_h = n_hidden\n",
        "        # number of output nodes\n",
        "        self.n_y = n_out\n",
        "        # Define 1st weight matrix (using random initialization)\n",
        "        self.W1 = torch.rand(n_hidden, n_in ) * 0.01\n",
        "        # define 1st bias vector\n",
        "        self.b1 = torch.rand(n_hidden, 1)\n",
        "        # Define 2nd weight matrix (using random initialization)\n",
        "        self.W2 = torch.rand(n_out, n_hidden) * 0.01\n",
        "        # Define 2nd bias vector\n",
        "        self.b2 = torch.rand(n_out, 1)\n",
        "                        \n",
        "    def forward(self, X):\n",
        "        z1 = torch.matmul(self.W1, X) + self.b1\n",
        "        activ1 = torch.tanh(z1)\n",
        "        self.activ1 = activ1\n",
        "        z2 = torch.matmul(self.W2, activ1) + self.b2\n",
        "        self.predicted = sigmoid(z2)\n",
        "        return self.predicted\n",
        "    \n",
        "    def backward(self, X, y):\n",
        "        m = y.shape[1]\n",
        "        dz2 = self.predicted - y\n",
        "        dw2 = 1/m * torch.matmul(dz2, self.activ1.t())\n",
        "        db2 = 1/m * torch.sum(dz2)#peut etre erreur ici\n",
        "        dz1 = torch.mul(torch.matmul(self.W2.t(), dz2), (1 - torch.pow(self.activ1, 2)))\n",
        "        dw1 = 1/m * torch.matmul(dz1, X.t())\n",
        "        db1 = 1/m * torch.sum(dz1)\n",
        "        self.dw1 = dw1\n",
        "        self.dw2 = dw2\n",
        "        self.db1 = db1\n",
        "        self.db2 = db2\n",
        "        \n",
        "    def train(self, X_train, y_train, X_valid, y_valid, epochs, learning_rate):\n",
        "        m = X_train.shape[1]\n",
        "        error_train = []\n",
        "        for e in range(epochs):\n",
        "            self.forward( X_train)\n",
        "        \n",
        "            training_loss = -torch.sum(torch.mul(torch.log(self.predicted), y_train) + torch.mul(torch.log(1- self.predicted ),  (1 - y_train))) / m # fill in the question marks \n",
        "            error_train.append(training_loss)\n",
        "\n",
        "            self.backward(X_train, y_train)\n",
        "            self.W1 = self.W1 - learning_rate * self.dw1 # update of the 1st weight matrix\n",
        "            self.b1 = self.b1 - learning_rate * self.db1 # update of the 1st bias vector\n",
        "            self.W2 = self.W2 - learning_rate * self.dw2# update of the 2nd weight matrix\n",
        "            self.b2 = self.b2 - learning_rate * self.db2  # update of the 2nd bias vector\n",
        "            \n",
        "            if e % 50 == 0:\n",
        "              print (\"Cost after iteration %i: %f\" %(e, training_loss))\n",
        "        self.error_train = np.array(error_train)\n",
        "        validation_error = []\n",
        "        for ep in range(epochs):\n",
        "          p = self.forward(X_valid_torch)\n",
        "          validation_loss = -torch.sum(torch.mul(torch.log(p), y_valid) + torch.mul(torch.log(1- p ),  (1 - y_valid))) / m \n",
        "          validation_error.append(validation_loss)\n",
        "        self.validation_error = np.array(validation_error)\n",
        "        print(\"error_training :\", np.mean(self.error_train))\n",
        "        print(\"validation_error\", np.mean(self.validation_error))\n",
        "\n"
      ],
      "execution_count": 49,
      "outputs": []
    },
    {
      "cell_type": "markdown",
      "metadata": {
        "id": "PqmKzCZ014ec"
      },
      "source": [
        "**QUESTION.** Train your neural network, modify your code to save the training and validation error along the gradient descent iterations and plot them. You should also print the train and validation errors during training."
      ]
    },
    {
      "cell_type": "code",
      "metadata": {
        "ExecuteTime": {
          "end_time": "2021-02-19T09:25:41.861250Z",
          "start_time": "2021-02-19T09:25:41.678Z"
        },
        "colab": {
          "base_uri": "https://localhost:8080/"
        },
        "id": "1wjl1Dxk14eg",
        "outputId": "392e9635-5bdd-40b0-9743-a1bf181298af"
      },
      "source": [
        "X_train_torch = torch.from_numpy(X_train).float()\n",
        "y_train_torch = torch.from_numpy(y_train).float()\n",
        "X_valid_torch = torch.from_numpy(X_test).float()\n",
        "y_valid_torch = torch.from_numpy(y_test).float()\n",
        "\n",
        "X_train_torch = X_train_torch.t()\n",
        "X_valid_torch = X_valid_torch.t()\n",
        "\n",
        "y_train_torch = y_train_torch.reshape(1, y_train_torch.shape[0])\n",
        "y_valid_torch = y_valid_torch.reshape(1, y_valid_torch.shape[0])\n",
        "\n",
        "nn = NeuralNetwork(2, 2, 1)\n",
        "print ('Train X Shape: ', X_train_torch.shape)\n",
        "print ('Train Y Shape: ', y_train_torch.shape)\n",
        "nn.train(\n",
        "    X_train_torch,\n",
        "    y_train_torch,\n",
        "    X_valid_torch,\n",
        "    y_valid_torch,\n",
        "    epochs=2500,\n",
        "    learning_rate=0.01\n",
        ")"
      ],
      "execution_count": 51,
      "outputs": [
        {
          "output_type": "stream",
          "text": [
            "Train X Shape:  torch.Size([2, 400])\n",
            "Train Y Shape:  torch.Size([1, 400])\n",
            "Cost after iteration 0: 0.693946\n",
            "Cost after iteration 50: 0.693713\n",
            "Cost after iteration 100: 0.693547\n",
            "Cost after iteration 150: 0.693429\n",
            "Cost after iteration 200: 0.693345\n",
            "Cost after iteration 250: 0.693285\n",
            "Cost after iteration 300: 0.693242\n",
            "Cost after iteration 350: 0.693212\n",
            "Cost after iteration 400: 0.693190\n",
            "Cost after iteration 450: 0.693175\n",
            "Cost after iteration 500: 0.693164\n",
            "Cost after iteration 550: 0.693156\n",
            "Cost after iteration 600: 0.693150\n",
            "Cost after iteration 650: 0.693146\n",
            "Cost after iteration 700: 0.693143\n",
            "Cost after iteration 750: 0.693141\n",
            "Cost after iteration 800: 0.693140\n",
            "Cost after iteration 850: 0.693139\n",
            "Cost after iteration 900: 0.693138\n",
            "Cost after iteration 950: 0.693137\n",
            "Cost after iteration 1000: 0.693137\n",
            "Cost after iteration 1050: 0.693137\n",
            "Cost after iteration 1100: 0.693136\n",
            "Cost after iteration 1150: 0.693136\n",
            "Cost after iteration 1200: 0.693136\n",
            "Cost after iteration 1250: 0.693136\n",
            "Cost after iteration 1300: 0.693136\n",
            "Cost after iteration 1350: 0.693136\n",
            "Cost after iteration 1400: 0.693135\n",
            "Cost after iteration 1450: 0.693135\n",
            "Cost after iteration 1500: 0.693135\n",
            "Cost after iteration 1550: 0.693135\n",
            "Cost after iteration 1600: 0.693135\n",
            "Cost after iteration 1650: 0.693135\n",
            "Cost after iteration 1700: 0.693135\n",
            "Cost after iteration 1750: 0.693135\n",
            "Cost after iteration 1800: 0.693135\n",
            "Cost after iteration 1850: 0.693135\n",
            "Cost after iteration 1900: 0.693135\n",
            "Cost after iteration 1950: 0.693135\n",
            "Cost after iteration 2000: 0.693135\n",
            "Cost after iteration 2050: 0.693135\n",
            "Cost after iteration 2100: 0.693135\n",
            "Cost after iteration 2150: 0.693135\n",
            "Cost after iteration 2200: 0.693134\n",
            "Cost after iteration 2250: 0.693134\n",
            "Cost after iteration 2300: 0.693134\n",
            "Cost after iteration 2350: 0.693134\n",
            "Cost after iteration 2400: 0.693134\n",
            "Cost after iteration 2450: 0.693134\n",
            "error_training : 0.6931834\n",
            "validation_error 0.17331438\n"
          ],
          "name": "stdout"
        }
      ]
    },
    {
      "cell_type": "code",
      "metadata": {
        "id": "6_7U7SzvjJXs"
      },
      "source": [
        "def prediction(X):\r\n",
        "  pred = nn.forward(X)\r\n",
        "  print(pred)\r\n",
        "  return torch.round(pred)"
      ],
      "execution_count": 40,
      "outputs": []
    },
    {
      "cell_type": "code",
      "metadata": {
        "colab": {
          "base_uri": "https://localhost:8080/"
        },
        "id": "Md3JA3DMdr00",
        "outputId": "443ce9b4-17d2-4816-8c62-593f1f0e033c"
      },
      "source": [
        "prediction(X_valid_torch)"
      ],
      "execution_count": 42,
      "outputs": [
        {
          "output_type": "stream",
          "text": [
            "tensor([[0.4937, 0.4964, 0.4951, 0.4929, 0.4945, 0.4990, 0.4957, 0.4919, 0.5045,\n",
            "         0.4957, 0.5006, 0.4932, 0.5041, 0.4939, 0.4981, 0.4986, 0.4892, 0.4941,\n",
            "         0.5063, 0.4971, 0.4962, 0.4942, 0.4966, 0.4935, 0.4970, 0.4970, 0.4983,\n",
            "         0.4918, 0.5048, 0.4889, 0.5079, 0.4997, 0.5000, 0.4958, 0.4953, 0.5008,\n",
            "         0.5022, 0.5014, 0.4967, 0.4986, 0.4921, 0.4956, 0.4903, 0.4987, 0.4915,\n",
            "         0.5008, 0.4948, 0.4971, 0.5112, 0.4956, 0.4896, 0.4966, 0.5006, 0.4940,\n",
            "         0.4940, 0.4923, 0.4937, 0.4926, 0.4929, 0.4965, 0.4969, 0.4956, 0.5035,\n",
            "         0.5035, 0.4949, 0.4976, 0.4954, 0.4961, 0.4930, 0.5009, 0.4970, 0.4994,\n",
            "         0.5007, 0.4876, 0.4959, 0.4933, 0.4961, 0.4930, 0.4961, 0.4980, 0.4939,\n",
            "         0.4938, 0.5010, 0.4917, 0.4950, 0.4983, 0.5026, 0.4954, 0.4903, 0.5031,\n",
            "         0.4971, 0.5003, 0.5034, 0.4950, 0.4935, 0.4934, 0.4986, 0.4984, 0.4958,\n",
            "         0.4988]])\n"
          ],
          "name": "stdout"
        },
        {
          "output_type": "execute_result",
          "data": {
            "text/plain": [
              "tensor([[0., 0., 0., 0., 0., 0., 0., 0., 1., 0., 1., 0., 1., 0., 0., 0., 0., 0.,\n",
              "         1., 0., 0., 0., 0., 0., 0., 0., 0., 0., 1., 0., 1., 0., 1., 0., 0., 1.,\n",
              "         1., 1., 0., 0., 0., 0., 0., 0., 0., 1., 0., 0., 1., 0., 0., 0., 1., 0.,\n",
              "         0., 0., 0., 0., 0., 0., 0., 0., 1., 1., 0., 0., 0., 0., 0., 1., 0., 0.,\n",
              "         1., 0., 0., 0., 0., 0., 0., 0., 0., 0., 1., 0., 0., 0., 1., 0., 0., 1.,\n",
              "         0., 1., 1., 0., 0., 0., 0., 0., 0., 0.]])"
            ]
          },
          "metadata": {
            "tags": []
          },
          "execution_count": 42
        }
      ]
    },
    {
      "cell_type": "markdown",
      "metadata": {
        "id": "rvF91M9f14el"
      },
      "source": [
        "## Assessment of your model\n",
        "\n",
        "**QUESTION.** Use and modify the plotting functions from this notebook and the ones from `tutorial01` in order to plot the data together with the **predicted probabilities** of your neural network for inputs in a grid covering the input features space (as we did in `tutorial01`). Also, display on the plot the AUC-ROC metric obtained by your neural net."
      ]
    }
  ]
}